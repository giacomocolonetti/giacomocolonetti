{
  "nbformat": 4,
  "nbformat_minor": 0,
  "metadata": {
    "kernelspec": {
      "display_name": "Python 3",
      "language": "python",
      "name": "python3"
    },
    "language_info": {
      "codemirror_mode": {
        "name": "ipython",
        "version": 3
      },
      "file_extension": ".py",
      "mimetype": "text/x-python",
      "name": "python",
      "nbconvert_exporter": "python",
      "pygments_lexer": "ipython3",
      "version": "3.8.1"
    },
    "colab": {
      "name": "Lecture_1.ipynb",
      "provenance": []
    }
  },
  "cells": [
    {
      "cell_type": "code",
      "metadata": {
        "id": "hjHASpKU7PpS"
      },
      "source": [
        "import pandas as pd\n",
        "\n",
        "df = pd.read_json('https://raw.githubusercontent.com/giacomocolonetti/giacomocolonetti/main/historico.json')\n",
        "df['Nota'] = pd.to_numeric(df['Nota'], errors='coerce')\n",
        "df.dropna(subset=['Nota'], inplace=True)\n",
        "\n"
      ],
      "execution_count": 83,
      "outputs": []
    }
  ]
}